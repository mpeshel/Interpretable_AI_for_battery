{
 "cells": [
  {
   "cell_type": "code",
   "execution_count": 1,
   "metadata": {},
   "outputs": [],
   "source": [
    "import pandas as pd\n",
    "import numpy as np\n",
    "import matminer\n",
    "from sklearn import preprocessing\n",
    "from sklearn.metrics import mean_squared_error, mean_absolute_error\n",
    "from sklearn.model_selection import ShuffleSplit\n",
    "from sklearn.model_selection import KFold, cross_val_score, train_test_split, cross_validate\n",
    "from matminer.figrecipes.plot import PlotlyFig"
   ]
  },
  {
   "cell_type": "code",
   "execution_count": 2,
   "metadata": {},
   "outputs": [],
   "source": [
    "data = pd.read_csv('ML_capacity.csv')"
   ]
  },
  {
   "cell_type": "code",
   "execution_count": 5,
   "metadata": {},
   "outputs": [],
   "source": [
    "data = data[data['working_ion']=='Li']"
   ]
  },
  {
   "cell_type": "code",
   "execution_count": 14,
   "metadata": {},
   "outputs": [
    {
     "data": {
      "image/png": "[encoded data removed]",
      "text/plain": [
       "<Figure size 432x288 with 1 Axes>"
      ]
     },
     "metadata": {
      "needs_background": "light"
     },
     "output_type": "display_data"
    }
   ],
   "source": [
    "import matplotlib.pyplot as plt\n",
    "%matplotlib inline\n",
    "\n",
    "plt.figure()\n",
    "y_c = data['capacity_grav'] \n",
    "plt.scatter(y_c,y_c)\n",
    "plt.show()"
   ]
  },
  {
   "cell_type": "code",
   "execution_count": 25,
   "metadata": {},
   "outputs": [
    {
     "name": "stdout",
     "output_type": "stream",
     "text": [
      "1 1 3 4 2282\n"
     ]
    }
   ],
   "source": [
    "c= list(data['average_voltage'])\n",
    "n = 0 \n",
    "m = 0\n",
    "p = 0 \n",
    "q = 0\n",
    "l = 0\n",
    "s = 0 \n",
    "for i in c:\n",
    "    if i > 10:\n",
    "        l = l + 1\n",
    "    elif i >8 and i < 10:\n",
    "        n = n + 1\n",
    "    elif i > 6.5 and i < 8:\n",
    "        m = m + 1\n",
    "    elif i < -1:\n",
    "        p = p + 1\n",
    "    else:\n",
    "        q = q + 1\n",
    "print (l, n, m, p, q)"
   ]
  },
  {
   "cell_type": "code",
   "execution_count": 7,
   "metadata": {},
   "outputs": [
    {
     "data": {
      "text/plain": [
       "array([[<matplotlib.axes._subplots.AxesSubplot object at 0x0000021294FB2C18>]],\n",
       "      dtype=object)"
      ]
     },
     "execution_count": 7,
     "metadata": {},
     "output_type": "execute_result"
    },
    {
     "data": {
      "image/png": "[encoded data removed]",
      "text/plain": [
       "<Figure size 432x288 with 1 Axes>"
      ]
     },
     "metadata": {
      "needs_background": "light"
     },
     "output_type": "display_data"
    }
   ],
   "source": [
    "data.hist('capacity_grav',bins=50)"
   ]
  },
  {
   "cell_type": "code",
   "execution_count": 15,
   "metadata": {},
   "outputs": [],
   "source": [
    "quantile_transformer = preprocessing.QuantileTransformer(output_distribution='normal', random_state=10)"
   ]
  },
  {
   "cell_type": "code",
   "execution_count": 8,
   "metadata": {},
   "outputs": [],
   "source": [
    "x=data['capacity_grav']"
   ]
  },
  {
   "cell_type": "code",
   "execution_count": 9,
   "metadata": {},
   "outputs": [],
   "source": [
    "X = np.expand_dims(x, axis = 1)"
   ]
  },
  {
   "cell_type": "code",
   "execution_count": 10,
   "metadata": {},
   "outputs": [
    {
     "data": {
      "text/plain": [
       "(2291, 1)"
      ]
     },
     "execution_count": 10,
     "metadata": {},
     "output_type": "execute_result"
    }
   ],
   "source": [
    "X.shape"
   ]
  },
  {
   "cell_type": "code",
   "execution_count": 16,
   "metadata": {},
   "outputs": [],
   "source": [
    "x_trans = quantile_transformer.fit_transform(X)"
   ]
  },
  {
   "cell_type": "code",
   "execution_count": 17,
   "metadata": {},
   "outputs": [
    {
     "data": {
      "text/plain": [
       "(array([  1.,   0.,   0.,   0.,   0.,   0.,   0.,   1.,   0.,   1.,   1.,\n",
       "          4.,   7.,  11.,  17.,  28.,  40.,  57.,  75.,  99., 123., 147.,\n",
       "        164., 180., 189., 189., 181., 166., 146., 122., 100.,  75.,  55.,\n",
       "         42.,  30.,  17.,   8.,   7.,   4.,   1.,   2.,   0.,   0.,   0.,\n",
       "          0.,   0.,   0.,   0.,   0.,   1.]),\n",
       " array([-5.19933758e+00, -4.99136408e+00, -4.78339058e+00, -4.57541707e+00,\n",
       "        -4.36744357e+00, -4.15947007e+00, -3.95149656e+00, -3.74352306e+00,\n",
       "        -3.53554956e+00, -3.32757605e+00, -3.11960255e+00, -2.91162905e+00,\n",
       "        -2.70365554e+00, -2.49568204e+00, -2.28770854e+00, -2.07973503e+00,\n",
       "        -1.87176153e+00, -1.66378803e+00, -1.45581452e+00, -1.24784102e+00,\n",
       "        -1.03986752e+00, -8.31894013e-01, -6.23920510e-01, -4.15947007e-01,\n",
       "        -2.07973503e-01,  4.89217555e-11,  2.07973503e-01,  4.15947007e-01,\n",
       "         6.23920510e-01,  8.31894013e-01,  1.03986752e+00,  1.24784102e+00,\n",
       "         1.45581452e+00,  1.66378803e+00,  1.87176153e+00,  2.07973503e+00,\n",
       "         2.28770854e+00,  2.49568204e+00,  2.70365554e+00,  2.91162905e+00,\n",
       "         3.11960255e+00,  3.32757605e+00,  3.53554956e+00,  3.74352306e+00,\n",
       "         3.95149656e+00,  4.15947007e+00,  4.36744357e+00,  4.57541707e+00,\n",
       "         4.78339058e+00,  4.99136408e+00,  5.19933758e+00]),\n",
       " <a list of 50 Patch objects>)"
      ]
     },
     "execution_count": 17,
     "metadata": {},
     "output_type": "execute_result"
    },
    {
     "data": {
      "image/png": "[encoded data removed]",
      "text/plain": [
       "<Figure size 432x288 with 1 Axes>"
      ]
     },
     "metadata": {
      "needs_background": "light"
     },
     "output_type": "display_data"
    }
   ],
   "source": [
    "plt.hist(x_trans,bins=50)"
   ]
  },
  {
   "cell_type": "code",
   "execution_count": 21,
   "metadata": {},
   "outputs": [
    {
     "data": {
      "text/plain": [
       "<matplotlib.axes._subplots.AxesSubplot at 0x2acbb6a0b00>"
      ]
     },
     "execution_count": 21,
     "metadata": {},
     "output_type": "execute_result"
    },
    {
     "data": {
      "image/png": "[encoded data removed]",
      "text/plain": [
       "<Figure size 432x288 with 1 Axes>"
      ]
     },
     "metadata": {
      "needs_background": "light"
     },
     "output_type": "display_data"
    }
   ],
   "source": [
    "import seaborn as sns\n",
    "sns.distplot(x_trans, rug=True )"
   ]
  },
  {
   "cell_type": "code",
   "execution_count": 22,
   "metadata": {},
   "outputs": [],
   "source": [
    "pt = preprocessing.PowerTransformer(method='yeo-johnson', standardize=False)"
   ]
  },
  {
   "cell_type": "code",
   "execution_count": 23,
   "metadata": {},
   "outputs": [],
   "source": [
    "x_pt_trans = pt.fit_transform(X)"
   ]
  },
  {
   "cell_type": "code",
   "execution_count": 24,
   "metadata": {},
   "outputs": [
    {
     "data": {
      "text/plain": [
       "<matplotlib.axes._subplots.AxesSubplot at 0x2acbb755828>"
      ]
     },
     "execution_count": 24,
     "metadata": {},
     "output_type": "execute_result"
    },
    {
     "data": {
      "image/png": "[encoded data removed]",
      "text/plain": [
       "<Figure size 432x288 with 1 Axes>"
      ]
     },
     "metadata": {
      "needs_background": "light"
     },
     "output_type": "display_data"
    }
   ],
   "source": [
    "import seaborn as sns\n",
    "sns.distplot(x_pt_trans, rug=True )"
   ]
  },
  {
   "cell_type": "code",
   "execution_count": 28,
   "metadata": {},
   "outputs": [],
   "source": [
    "import torchvision"
   ]
  },
  {
   "cell_type": "code",
   "execution_count": 30,
   "metadata": {},
   "outputs": [
    {
     "ename": "TypeError",
     "evalue": "__init__() missing 1 required positional argument: 'std'",
     "output_type": "error",
     "traceback": [
      "\u001b[1;31m---------------------------------------------------------------------------\u001b[0m",
      "\u001b[1;31mTypeError\u001b[0m                                 Traceback (most recent call last)",
      "\u001b[1;32m<ipython-input-30-c58c960e8570>\u001b[0m in \u001b[0;36m<module>\u001b[1;34m\u001b[0m\n\u001b[1;32m----> 1\u001b[1;33m \u001b[0mtorchvision\u001b[0m\u001b[1;33m.\u001b[0m\u001b[0mtransforms\u001b[0m\u001b[1;33m.\u001b[0m\u001b[0mNormalize\u001b[0m\u001b[1;33m(\u001b[0m\u001b[0mx\u001b[0m\u001b[1;33m,\u001b[0m \u001b[0minplace\u001b[0m\u001b[1;33m=\u001b[0m\u001b[1;32mFalse\u001b[0m\u001b[1;33m)\u001b[0m\u001b[1;33m\u001b[0m\u001b[1;33m\u001b[0m\u001b[0m\n\u001b[0m",
      "\u001b[1;31mTypeError\u001b[0m: __init__() missing 1 required positional argument: 'std'"
     ]
    }
   ],
   "source": [
    "torchvision.transforms.Normalize(0, 1, inplace=False)"
   ]
  },
  {
   "cell_type": "code",
   "execution_count": 18,
   "metadata": {},
   "outputs": [],
   "source": [
    "import numpy as np\n",
    "import torch\n",
    "x_torch = torch.tensor(x.values)"
   ]
  },
  {
   "cell_type": "code",
   "execution_count": 19,
   "metadata": {},
   "outputs": [
    {
     "data": {
      "text/plain": [
       "torch.Tensor"
      ]
     },
     "execution_count": 19,
     "metadata": {},
     "output_type": "execute_result"
    }
   ],
   "source": [
    "type(x_torch)"
   ]
  },
  {
   "cell_type": "code",
   "execution_count": 20,
   "metadata": {},
   "outputs": [],
   "source": [
    "means = torch.mean(x_torch)"
   ]
  },
  {
   "cell_type": "code",
   "execution_count": 21,
   "metadata": {},
   "outputs": [],
   "source": [
    "stds = torch.std(x_torch)"
   ]
  },
  {
   "cell_type": "code",
   "execution_count": 25,
   "metadata": {},
   "outputs": [
    {
     "data": {
      "text/plain": [
       "tensor(139.3726, dtype=torch.float64)"
      ]
     },
     "execution_count": 25,
     "metadata": {},
     "output_type": "execute_result"
    }
   ],
   "source": [
    "means"
   ]
  },
  {
   "cell_type": "code",
   "execution_count": 22,
   "metadata": {},
   "outputs": [],
   "source": [
    "x_trans_scale = (x_torch-means)/stds"
   ]
  },
  {
   "cell_type": "code",
   "execution_count": 23,
   "metadata": {},
   "outputs": [
    {
     "data": {
      "text/plain": [
       "(array([ 43., 125., 275., 246., 335., 261., 241., 253., 127., 140.,  64.,\n",
       "         26.,  56.,  29.,   6.,  16.,  19.,  11.,   3.,   1.,   1.,   3.,\n",
       "          0.,   3.,   0.,   3.,   0.,   0.,   0.,   0.,   0.,   1.,   0.,\n",
       "          0.,   0.,   0.,   1.,   0.,   0.,   0.,   0.,   0.,   0.,   1.,\n",
       "          0.,   0.,   0.,   0.,   0.,   1.]),\n",
       " array([-1.61361864, -1.34845271, -1.08328677, -0.81812083, -0.55295489,\n",
       "        -0.28778895, -0.02262301,  0.24254293,  0.50770887,  0.77287481,\n",
       "         1.03804075,  1.30320669,  1.56837263,  1.83353857,  2.09870451,\n",
       "         2.36387045,  2.62903639,  2.89420233,  3.15936827,  3.42453421,\n",
       "         3.68970015,  3.95486609,  4.22003203,  4.48519796,  4.7503639 ,\n",
       "         5.01552984,  5.28069578,  5.54586172,  5.81102766,  6.0761936 ,\n",
       "         6.34135954,  6.60652548,  6.87169142,  7.13685736,  7.4020233 ,\n",
       "         7.66718924,  7.93235518,  8.19752112,  8.46268706,  8.727853  ,\n",
       "         8.99301894,  9.25818488,  9.52335082,  9.78851676, 10.0536827 ,\n",
       "        10.31884864, 10.58401457, 10.84918051, 11.11434645, 11.37951239,\n",
       "        11.64467833]),\n",
       " <a list of 50 Patch objects>)"
      ]
     },
     "execution_count": 23,
     "metadata": {},
     "output_type": "execute_result"
    },
    {
     "data": {
      "image/png": "[encoded data removed]",
      "text/plain": [
       "<Figure size 432x288 with 1 Axes>"
      ]
     },
     "metadata": {
      "needs_background": "light"
     },
     "output_type": "display_data"
    }
   ],
   "source": [
    "plt.hist(x_trans_scale,bins=50)"
   ]
  },
  {
   "cell_type": "code",
   "execution_count": 103,
   "metadata": {},
   "outputs": [],
   "source": [
    "from sklearn.preprocessing import StandardScaler"
   ]
  },
  {
   "cell_type": "code",
   "execution_count": 109,
   "metadata": {},
   "outputs": [],
   "source": [
    "x_trans_L2 = x_torch/torch.sum(x_torch**2)"
   ]
  },
  {
   "cell_type": "code",
   "execution_count": 110,
   "metadata": {},
   "outputs": [
    {
     "data": {
      "text/plain": [
       "(array([  3.,   1.,   0.,   0.,   3.,   4.,   9.,   5.,   8.,   7.,  20.,\n",
       "         29.,  45.,  64.,  72.,  96., 160., 211., 254., 287., 297., 219.,\n",
       "        172., 133.,  88.,  53.,  28.,  10.,   7.,   1.,   0.,   2.,   0.,\n",
       "          1.,   0.,   0.,   0.,   1.,   0.,   0.,   0.,   0.,   0.,   0.,\n",
       "          0.,   0.,   0.,   0.,   0.,   1.]),\n",
       " array([-6.59274428e-05, -5.65437293e-05, -4.71600158e-05, -3.77763024e-05,\n",
       "        -2.83925889e-05, -1.90088755e-05, -9.62516201e-06, -2.41448556e-07,\n",
       "         9.14226490e-06,  1.85259784e-05,  2.79096918e-05,  3.72934053e-05,\n",
       "         4.66771187e-05,  5.60608322e-05,  6.54445456e-05,  7.48282591e-05,\n",
       "         8.42119726e-05,  9.35956860e-05,  1.02979399e-04,  1.12363113e-04,\n",
       "         1.21746826e-04,  1.31130540e-04,  1.40514253e-04,  1.49897967e-04,\n",
       "         1.59281680e-04,  1.68665394e-04,  1.78049107e-04,  1.87432821e-04,\n",
       "         1.96816534e-04,  2.06200247e-04,  2.15583961e-04,  2.24967674e-04,\n",
       "         2.34351388e-04,  2.43735101e-04,  2.53118815e-04,  2.62502528e-04,\n",
       "         2.71886242e-04,  2.81269955e-04,  2.90653669e-04,  3.00037382e-04,\n",
       "         3.09421096e-04,  3.18804809e-04,  3.28188522e-04,  3.37572236e-04,\n",
       "         3.46955949e-04,  3.56339663e-04,  3.65723376e-04,  3.75107090e-04,\n",
       "         3.84490803e-04,  3.93874517e-04,  4.03258230e-04]),\n",
       " <a list of 50 Patch objects>)"
      ]
     },
     "execution_count": 110,
     "metadata": {},
     "output_type": "execute_result"
    },
    {
     "data": {
      "image/png": "[encoded data removed]",
      "text/plain": [
       "<Figure size 432x288 with 1 Axes>"
      ]
     },
     "metadata": {
      "needs_background": "light"
     },
     "output_type": "display_data"
    }
   ],
   "source": [
    "plt.hist(x_trans_L2,bins=50)"
   ]
  },
  {
   "cell_type": "code",
   "execution_count": 111,
   "metadata": {},
   "outputs": [
    {
     "data": {
      "text/plain": [
       "torch.Tensor"
      ]
     },
     "execution_count": 111,
     "metadata": {},
     "output_type": "execute_result"
    }
   ],
   "source": [
    "type(x_trans_L2)"
   ]
  },
  {
   "cell_type": "code",
   "execution_count": 114,
   "metadata": {},
   "outputs": [
    {
     "ename": "AttributeError",
     "evalue": "'Tensor' object has no attribute 'duplicated'",
     "output_type": "error",
     "traceback": [
      "\u001b[1;31m---------------------------------------------------------------------------\u001b[0m",
      "\u001b[1;31mAttributeError\u001b[0m                            Traceback (most recent call last)",
      "\u001b[1;32m<ipython-input-114-c13017206c4a>\u001b[0m in \u001b[0;36m<module>\u001b[1;34m\u001b[0m\n\u001b[1;32m----> 1\u001b[1;33m \u001b[0mx_torch\u001b[0m\u001b[1;33m.\u001b[0m\u001b[0mduplicated\u001b[0m\u001b[1;33m(\u001b[0m\u001b[1;33m)\u001b[0m\u001b[1;33m\u001b[0m\u001b[1;33m\u001b[0m\u001b[0m\n\u001b[0m",
      "\u001b[1;31mAttributeError\u001b[0m: 'Tensor' object has no attribute 'duplicated'"
     ]
    }
   ],
   "source": [
    "x_torch.duplicated()"
   ]
  },
  {
   "cell_type": "code",
   "execution_count": null,
   "metadata": {},
   "outputs": [],
   "source": []
  }
 ],
 "metadata": {
  "kernelspec": {
   "display_name": "Python 3",
   "language": "python",
   "name": "python3"
  },
  "language_info": {
   "codemirror_mode": {
    "name": "ipython",
    "version": 3
   },
   "file_extension": ".py",
   "mimetype": "text/x-python",
   "name": "python",
   "nbconvert_exporter": "python",
   "pygments_lexer": "ipython3",
   "version": "3.7.2"
  }
 },
 "nbformat": 4,
 "nbformat_minor": 2
}
