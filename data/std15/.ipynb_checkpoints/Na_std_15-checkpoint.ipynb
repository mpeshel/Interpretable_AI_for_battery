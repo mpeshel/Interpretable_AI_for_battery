{
 "cells": [
  {
   "cell_type": "code",
   "execution_count": 3,
   "metadata": {},
   "outputs": [],
   "source": [
    "import pymatgen as mg\n",
    "import json\n",
    "with open (\"../../battery_structure_test1.json\", \"r\") as f :\n",
    "    battery_structure =  json.loads (f.read ())"
   ]
  },
  {
   "cell_type": "code",
   "execution_count": 4,
   "metadata": {},
   "outputs": [],
   "source": [
    "import numpy as np\n",
    "ave_voltage = []\n",
    "i = 0\n",
    "while i < len(battery_structure):\n",
    "    if battery_structure[i][0]['working_ion']=='Na':\n",
    "    \n",
    "        ave_voltage.append(battery_structure [i][0]['average_voltage'])\n",
    "    i+=1\n",
    "ave_voltage = np.array(ave_voltage)"
   ]
  },
  {
   "cell_type": "code",
   "execution_count": 5,
   "metadata": {},
   "outputs": [],
   "source": [
    "vmean=ave_voltage.mean()\n",
    "vstd = ave_voltage.std()\n",
    "up = vmean+1.5*vstd\n",
    "dw = vmean-1.5*vstd"
   ]
  },
  {
   "cell_type": "code",
   "execution_count": 6,
   "metadata": {},
   "outputs": [
    {
     "data": {
      "text/plain": [
       "(5.019322607976357, 1.0281622933450638, 3.0237424506607105, 1.3303867715437645)"
      ]
     },
     "execution_count": 6,
     "metadata": {},
     "output_type": "execute_result"
    }
   ],
   "source": [
    "up, dw, vmean, vstd"
   ]
  },
  {
   "cell_type": "code",
   "execution_count": 5,
   "metadata": {},
   "outputs": [
    {
     "name": "stdout",
     "output_type": "stream",
     "text": [
      "Wall time: 884 ms\n"
     ]
    }
   ],
   "source": [
    "%%time\n",
    "import pymatgen as mg\n",
    "i = 0\n",
    "j = 0\n",
    "while i  < len(battery_structure): \n",
    "    if battery_structure[i][0]['working_ion']=='Na':\n",
    "        voltage = battery_structure [i][0]['average_voltage']\n",
    "        if voltage < up and voltage > dw:\n",
    "\n",
    "            s = battery_structure [i][0]['adj_pairs'][0]['structure']['structure']\n",
    "            Structure = mg.Structure.from_dict (s)\n",
    "            ids = battery_structure[i][0]['adj_pairs'][0]['structure']['entry_id']\n",
    "\n",
    "            Structure.to('cif', ids+'.cif')\n",
    "            j = j + 1\n",
    "    \n",
    "    i = i + 1"
   ]
  },
  {
   "cell_type": "code",
   "execution_count": 6,
   "metadata": {},
   "outputs": [
    {
     "name": "stdout",
     "output_type": "stream",
     "text": [
      "287\n"
     ]
    }
   ],
   "source": [
    "print(j)"
   ]
  },
  {
   "cell_type": "code",
   "execution_count": null,
   "metadata": {},
   "outputs": [],
   "source": []
  }
 ],
 "metadata": {
  "kernelspec": {
   "display_name": "Python 3",
   "language": "python",
   "name": "python3"
  },
  "language_info": {
   "codemirror_mode": {
    "name": "ipython",
    "version": 3
   },
   "file_extension": ".py",
   "mimetype": "text/x-python",
   "name": "python",
   "nbconvert_exporter": "python",
   "pygments_lexer": "ipython3",
   "version": "3.7.2"
  }
 },
 "nbformat": 4,
 "nbformat_minor": 2
}
