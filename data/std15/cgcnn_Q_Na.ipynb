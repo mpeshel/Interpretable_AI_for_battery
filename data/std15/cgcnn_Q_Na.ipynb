{
 "cells": [
  {
   "cell_type": "code",
   "execution_count": 1,
   "metadata": {},
   "outputs": [],
   "source": [
    "import pymatgen as mg\n",
    "import json\n",
    "with open (\"../../battery_structure_test1.json\", \"r\") as f :\n",
    "    battery_structure =  json.loads (f.read ())"
   ]
  },
  {
   "cell_type": "code",
   "execution_count": 11,
   "metadata": {},
   "outputs": [],
   "source": [
    "import pandas as pd\n",
    "data = pd.DataFrame ()\n",
    "#data = pd.DataFrame(columns=['entry_id', 'capacity_grav'])\n",
    "data = pd.DataFrame(columns=['entry_id', 'ave_voltage'])"
   ]
  },
  {
   "cell_type": "code",
   "execution_count": 5,
   "metadata": {},
   "outputs": [
    {
     "data": {
      "text/plain": [
       "{'lattice': {'a': 5.482576,\n",
       "  'c': 18.035336,\n",
       "  'b': 6.825777,\n",
       "  'matrix': [[5.482576, 0.0, 0.0],\n",
       "   [0.0, 6.825777, 0.0],\n",
       "   [0.0, 0.0, 18.035336]],\n",
       "  'volume': 674.9335144232207,\n",
       "  'beta': 90.0,\n",
       "  'gamma': 90.0,\n",
       "  'alpha': 90.0},\n",
       " 'sites': [{'abc': [0.77409, 0.54976, 0.31215],\n",
       "   'xyz': [4.24400725584, 3.7525391635200003, 5.6297301324],\n",
       "   'label': 'P',\n",
       "   'species': [{'occu': 1, 'element': 'P'}]},\n",
       "  {'abc': [0.72591, 0.45024, 0.81215],\n",
       "   'xyz': [3.97985674416, 3.07323783648, 14.647398132400001],\n",
       "   'label': 'P',\n",
       "   'species': [{'occu': 1, 'element': 'P'}]},\n",
       "  {'abc': [0.27409, 0.95024, 0.68785],\n",
       "   'xyz': [1.50271925584, 6.48612633648, 12.4056058676],\n",
       "   'label': 'P',\n",
       "   'species': [{'occu': 1, 'element': 'P'}]},\n",
       "  {'abc': [0.22591, 0.04976, 0.18785],\n",
       "   'xyz': [1.23856874416, 0.33965066352, 3.3879378676],\n",
       "   'label': 'P',\n",
       "   'species': [{'occu': 1, 'element': 'P'}]},\n",
       "  {'abc': [0.75846, 0.91129, 0.45531],\n",
       "   'xyz': [4.15831459296, 6.220262322330001, 8.211668834160001],\n",
       "   'label': 'W',\n",
       "   'species': [{'occu': 1, 'element': 'W'}]},\n",
       "  {'abc': [0.74154, 0.08871, 0.95531],\n",
       "   'xyz': [4.06554940704, 0.60551467767, 17.22933683416],\n",
       "   'label': 'W',\n",
       "   'species': [{'occu': 1, 'element': 'W'}]},\n",
       "  {'abc': [0.25846, 0.58871, 0.54469],\n",
       "   'xyz': [1.41702659296, 4.01840317767, 9.82366716584],\n",
       "   'label': 'W',\n",
       "   'species': [{'occu': 1, 'element': 'W'}]},\n",
       "  {'abc': [0.24154, 0.41129, 0.04469],\n",
       "   'xyz': [1.32426140704, 2.80737382233, 0.8059991658400001],\n",
       "   'label': 'W',\n",
       "   'species': [{'occu': 1, 'element': 'W'}]},\n",
       "  {'abc': [0.74338, 0.74702, 0.12752],\n",
       "   'xyz': [4.07563734688, 5.098991934540001, 2.29986604672],\n",
       "   'label': 'W',\n",
       "   'species': [{'occu': 1, 'element': 'W'}]},\n",
       "  {'abc': [0.75662, 0.25298, 0.62752],\n",
       "   'xyz': [4.14822665312, 1.7267850654599999, 11.31753404672],\n",
       "   'label': 'W',\n",
       "   'species': [{'occu': 1, 'element': 'W'}]},\n",
       "  {'abc': [0.24338, 0.75298, 0.87248],\n",
       "   'xyz': [1.33434934688, 5.13967356546, 15.73546995328],\n",
       "   'label': 'W',\n",
       "   'species': [{'occu': 1, 'element': 'W'}]},\n",
       "  {'abc': [0.25662, 0.24702, 0.37248],\n",
       "   'xyz': [1.40693865312, 1.6861034345400001, 6.7178019532799995],\n",
       "   'label': 'W',\n",
       "   'species': [{'occu': 1, 'element': 'W'}]},\n",
       "  {'abc': [0.04176, 0.76246, 0.4948],\n",
       "   'xyz': [0.22895237376, 5.20438193142, 8.9238842528],\n",
       "   'label': 'O',\n",
       "   'species': [{'occu': 1, 'element': 'O'}]},\n",
       "  {'abc': [0.45824, 0.23754, 0.9948],\n",
       "   'xyz': [2.51233562624, 1.62139506858, 17.9415522528],\n",
       "   'label': 'O',\n",
       "   'species': [{'occu': 1, 'element': 'O'}]},\n",
       "  {'abc': [0.54176, 0.73754, 0.5052],\n",
       "   'xyz': [2.97024037376, 5.03428356858, 9.1114517472],\n",
       "   'label': 'O',\n",
       "   'species': [{'occu': 1, 'element': 'O'}]},\n",
       "  {'abc': [0.95824, 0.26246, 0.0052],\n",
       "   'xyz': [5.25362362624, 1.7914934314200004, 0.0937837472],\n",
       "   'label': 'O',\n",
       "   'species': [{'occu': 1, 'element': 'O'}]},\n",
       "  {'abc': [0.7545, 0.74131, 0.36085],\n",
       "   'xyz': [4.136603591999999, 5.060016747870001, 6.5080509956000006],\n",
       "   'label': 'O',\n",
       "   'species': [{'occu': 1, 'element': 'O'}]},\n",
       "  {'abc': [0.7455, 0.25869, 0.86085],\n",
       "   'xyz': [4.087260408000001, 1.76576025213, 15.5257189956],\n",
       "   'label': 'O',\n",
       "   'species': [{'occu': 1, 'element': 'O'}]},\n",
       "  {'abc': [0.2545, 0.75869, 0.63915],\n",
       "   'xyz': [1.395315592, 5.17864875213, 11.527285004400001],\n",
       "   'label': 'O',\n",
       "   'species': [{'occu': 1, 'element': 'O'}]},\n",
       "  {'abc': [0.2455, 0.24131, 0.13915],\n",
       "   'xyz': [1.345972408, 1.64712824787, 2.5096170044],\n",
       "   'label': 'O',\n",
       "   'species': [{'occu': 1, 'element': 'O'}]},\n",
       "  {'abc': [0.7304, 0.60903, 0.22782],\n",
       "   'xyz': [4.0044735104, 4.15710296631, 4.10881024752],\n",
       "   'label': 'O',\n",
       "   'species': [{'occu': 1, 'element': 'O'}]},\n",
       "  {'abc': [0.7696, 0.39097, 0.72782],\n",
       "   'xyz': [4.219390489599999, 2.66867403369, 13.126478247520001],\n",
       "   'label': 'O',\n",
       "   'species': [{'occu': 1, 'element': 'O'}]},\n",
       "  {'abc': [0.2304, 0.89097, 0.77218],\n",
       "   'xyz': [1.2631855104, 6.0815625336900005, 13.92652575248],\n",
       "   'label': 'O',\n",
       "   'species': [{'occu': 1, 'element': 'O'}]},\n",
       "  {'abc': [0.2696, 0.10903, 0.27218],\n",
       "   'xyz': [1.4781024896, 0.7442144663100001, 4.9088577524799994],\n",
       "   'label': 'O',\n",
       "   'species': [{'occu': 1, 'element': 'O'}]},\n",
       "  {'abc': [0.01933, 0.59775, 0.09812],\n",
       "   'xyz': [0.10597819408, 4.08010820175, 1.76962716832],\n",
       "   'label': 'O',\n",
       "   'species': [{'occu': 1, 'element': 'O'}]},\n",
       "  {'abc': [0.48067, 0.40225, 0.59812],\n",
       "   'xyz': [2.63530980592, 2.74566879825, 10.78729516832],\n",
       "   'label': 'O',\n",
       "   'species': [{'occu': 1, 'element': 'O'}]},\n",
       "  {'abc': [0.51933, 0.90225, 0.90188],\n",
       "   'xyz': [2.84726619408, 6.158557298250001, 16.26570883168],\n",
       "   'label': 'O',\n",
       "   'species': [{'occu': 1, 'element': 'O'}]},\n",
       "  {'abc': [0.98067, 0.09775, 0.40188],\n",
       "   'xyz': [5.37659780592, 0.6672197017500001, 7.248040831680001],\n",
       "   'label': 'O',\n",
       "   'species': [{'occu': 1, 'element': 'O'}]},\n",
       "  {'abc': [0.52814, 0.55387, 0.08725],\n",
       "   'xyz': [2.8955676886400004, 3.78059310699, 1.573583066],\n",
       "   'label': 'O',\n",
       "   'species': [{'occu': 1, 'element': 'O'}]},\n",
       "  {'abc': [0.97186, 0.44613, 0.58725],\n",
       "   'xyz': [5.32829631136, 3.0451838930100004, 10.591251066000002],\n",
       "   'label': 'O',\n",
       "   'species': [{'occu': 1, 'element': 'O'}]},\n",
       "  {'abc': [0.02814, 0.94613, 0.91275],\n",
       "   'xyz': [0.15427968864, 6.458072393010001, 16.461752934],\n",
       "   'label': 'O',\n",
       "   'species': [{'occu': 1, 'element': 'O'}]},\n",
       "  {'abc': [0.47186, 0.05387, 0.41275],\n",
       "   'xyz': [2.58700831136, 0.36770460699, 7.444084934],\n",
       "   'label': 'O',\n",
       "   'species': [{'occu': 1, 'element': 'O'}]},\n",
       "  {'abc': [0.55848, 0.40427, 0.33601],\n",
       "   'xyz': [3.0619090444799997, 2.7594568677900004, 6.06005324936],\n",
       "   'label': 'O',\n",
       "   'species': [{'occu': 1, 'element': 'O'}]},\n",
       "  {'abc': [0.94152, 0.59573, 0.83601],\n",
       "   'xyz': [5.16195495552, 4.06632013221, 15.077721249360001],\n",
       "   'label': 'O',\n",
       "   'species': [{'occu': 1, 'element': 'O'}]},\n",
       "  {'abc': [0.05848, 0.09573, 0.66399],\n",
       "   'xyz': [0.32062104448, 0.65343163221, 11.97528275064],\n",
       "   'label': 'O',\n",
       "   'species': [{'occu': 1, 'element': 'O'}]},\n",
       "  {'abc': [0.44152, 0.90427, 0.16399],\n",
       "   'xyz': [2.42066695552, 6.17234536779, 2.95761475064],\n",
       "   'label': 'O',\n",
       "   'species': [{'occu': 1, 'element': 'O'}]},\n",
       "  {'abc': [0.02568, 0.45328, 0.32098],\n",
       "   'xyz': [0.14079255168000002, 3.0939881985600004, 5.78898214928],\n",
       "   'label': 'O',\n",
       "   'species': [{'occu': 1, 'element': 'O'}]},\n",
       "  {'abc': [0.47432, 0.54672, 0.82098],\n",
       "   'xyz': [2.6004954483200002, 3.73178880144, 14.806650149280001],\n",
       "   'label': 'O',\n",
       "   'species': [{'occu': 1, 'element': 'O'}]},\n",
       "  {'abc': [0.52568, 0.04672, 0.67902],\n",
       "   'xyz': [2.88208055168, 0.31890030144, 12.24635385072],\n",
       "   'label': 'O',\n",
       "   'species': [{'occu': 1, 'element': 'O'}]},\n",
       "  {'abc': [0.97432, 0.95328, 0.17902],\n",
       "   'xyz': [5.341783448319999, 6.50687669856, 3.2286858507200002],\n",
       "   'label': 'O',\n",
       "   'species': [{'occu': 1, 'element': 'O'}]},\n",
       "  {'abc': [0.75712, 0.09117, 0.54172],\n",
       "   'xyz': [4.15096794112, 0.6223060890900001, 9.77010221792],\n",
       "   'label': 'O',\n",
       "   'species': [{'occu': 1, 'element': 'O'}]},\n",
       "  {'abc': [0.74288, 0.90883, 0.04172],\n",
       "   'xyz': [4.07289605888, 6.20347091091, 0.7524342179200001],\n",
       "   'label': 'O',\n",
       "   'species': [{'occu': 1, 'element': 'O'}]},\n",
       "  {'abc': [0.25712, 0.40883, 0.45828],\n",
       "   'xyz': [1.40967994112, 2.7905824109100004, 8.265233782080001],\n",
       "   'label': 'O',\n",
       "   'species': [{'occu': 1, 'element': 'O'}]},\n",
       "  {'abc': [0.24288, 0.59117, 0.95828],\n",
       "   'xyz': [1.3316080588800001, 4.0351945890900005, 17.28290178208],\n",
       "   'label': 'O',\n",
       "   'species': [{'occu': 1, 'element': 'O'}]}],\n",
       " '@class': 'Structure',\n",
       " '@module': 'pymatgen.core.structure'}"
      ]
     },
     "execution_count": 5,
     "metadata": {},
     "output_type": "execute_result"
    }
   ],
   "source": [
    "battery_structure[0][0]['adj_pairs'][0]['structure']['structure']"
   ]
  },
  {
   "cell_type": "code",
   "execution_count": 12,
   "metadata": {},
   "outputs": [
    {
     "name": "stdout",
     "output_type": "stream",
     "text": [
      "Wall time: 351 ms\n"
     ]
    }
   ],
   "source": [
    "%%time\n",
    "import pymatgen as mg\n",
    "i = 0\n",
    "j = 0\n",
    "while i  < len(battery_structure):    \n",
    "    if battery_structure[i][0]['working_ion']=='Na':\n",
    "        data.loc [j, 'entry_id'] = battery_structure[i][0]['adj_pairs'][0]['structure']['entry_id']\n",
    "        data.loc[j, 'ave_voltage']=battery_structure [i][0]['average_voltage']\n",
    "        j = j + 1\n",
    "    i = i + 1"
   ]
  },
  {
   "cell_type": "code",
   "execution_count": 13,
   "metadata": {},
   "outputs": [],
   "source": [
    "voltage = data ['ave_voltage']"
   ]
  },
  {
   "cell_type": "code",
   "execution_count": 14,
   "metadata": {},
   "outputs": [
    {
     "data": {
      "image/png": "[encoded data removed]",
      "text/plain": [
       "<Figure size 432x288 with 1 Axes>"
      ]
     },
     "metadata": {
      "needs_background": "light"
     },
     "output_type": "display_data"
    }
   ],
   "source": [
    "import matplotlib.pyplot as plt\n",
    "plt_figure=plt.hist(voltage, bins = 50, alpha = 0.8)\n",
    "plt.xlabel(\"voltage\")\n",
    "plt.ylabel(\"count\")\n",
    "plt.savefig(\"hist.png\")\n",
    "plt.show()"
   ]
  },
  {
   "cell_type": "code",
   "execution_count": 15,
   "metadata": {},
   "outputs": [],
   "source": [
    "vmean=data['ave_voltage'].mean()\n",
    "vstd = data['ave_voltage'].std()"
   ]
  },
  {
   "cell_type": "code",
   "execution_count": 16,
   "metadata": {},
   "outputs": [],
   "source": [
    "up = vmean+2*vstd\n",
    "dw = vmean-2*vstd"
   ]
  },
  {
   "cell_type": "code",
   "execution_count": 17,
   "metadata": {},
   "outputs": [
    {
     "data": {
      "text/plain": [
       "(5.688581349126013, 0.35890355219541226, 3.0237424506607122, 1.33241944923265)"
      ]
     },
     "execution_count": 17,
     "metadata": {},
     "output_type": "execute_result"
    }
   ],
   "source": [
    "up, dw, vmean, vstd"
   ]
  },
  {
   "cell_type": "code",
   "execution_count": 18,
   "metadata": {},
   "outputs": [],
   "source": [
    "data = data[data['ave_voltage']< up]\n",
    "data = data[data['ave_voltage']> dw]"
   ]
  },
  {
   "cell_type": "code",
   "execution_count": 19,
   "metadata": {},
   "outputs": [
    {
     "data": {
      "text/html": [
       "<div>\n",
       "<style scoped>\n",
       "    .dataframe tbody tr th:only-of-type {\n",
       "        vertical-align: middle;\n",
       "    }\n",
       "\n",
       "    .dataframe tbody tr th {\n",
       "        vertical-align: top;\n",
       "    }\n",
       "\n",
       "    .dataframe thead th {\n",
       "        text-align: right;\n",
       "    }\n",
       "</style>\n",
       "<table border=\"1\" class=\"dataframe\">\n",
       "  <thead>\n",
       "    <tr style=\"text-align: right;\">\n",
       "      <th></th>\n",
       "      <th>entry_id</th>\n",
       "      <th>ave_voltage</th>\n",
       "    </tr>\n",
       "  </thead>\n",
       "  <tbody>\n",
       "    <tr>\n",
       "      <th>0</th>\n",
       "      <td>mp-772118</td>\n",
       "      <td>2.9578</td>\n",
       "    </tr>\n",
       "    <tr>\n",
       "      <th>1</th>\n",
       "      <td>mp-25225</td>\n",
       "      <td>2.47474</td>\n",
       "    </tr>\n",
       "    <tr>\n",
       "      <th>2</th>\n",
       "      <td>mp-772999</td>\n",
       "      <td>3.51893</td>\n",
       "    </tr>\n",
       "    <tr>\n",
       "      <th>3</th>\n",
       "      <td>mp-1101670</td>\n",
       "      <td>3.8131</td>\n",
       "    </tr>\n",
       "    <tr>\n",
       "      <th>4</th>\n",
       "      <td>mp-771217</td>\n",
       "      <td>3.81078</td>\n",
       "    </tr>\n",
       "    <tr>\n",
       "      <th>...</th>\n",
       "      <td>...</td>\n",
       "      <td>...</td>\n",
       "    </tr>\n",
       "    <tr>\n",
       "      <th>322</th>\n",
       "      <td>mp-557397</td>\n",
       "      <td>3.91008</td>\n",
       "    </tr>\n",
       "    <tr>\n",
       "      <th>324</th>\n",
       "      <td>mp-773175</td>\n",
       "      <td>2.50431</td>\n",
       "    </tr>\n",
       "    <tr>\n",
       "      <th>325</th>\n",
       "      <td>mp-2156</td>\n",
       "      <td>1.54497</td>\n",
       "    </tr>\n",
       "    <tr>\n",
       "      <th>326</th>\n",
       "      <td>mp-769570</td>\n",
       "      <td>3.59545</td>\n",
       "    </tr>\n",
       "    <tr>\n",
       "      <th>327</th>\n",
       "      <td>mp-1078799</td>\n",
       "      <td>0.942064</td>\n",
       "    </tr>\n",
       "  </tbody>\n",
       "</table>\n",
       "<p>314 rows × 2 columns</p>\n",
       "</div>"
      ],
      "text/plain": [
       "       entry_id ave_voltage\n",
       "0     mp-772118      2.9578\n",
       "1      mp-25225     2.47474\n",
       "2     mp-772999     3.51893\n",
       "3    mp-1101670      3.8131\n",
       "4     mp-771217     3.81078\n",
       "..          ...         ...\n",
       "322   mp-557397     3.91008\n",
       "324   mp-773175     2.50431\n",
       "325     mp-2156     1.54497\n",
       "326   mp-769570     3.59545\n",
       "327  mp-1078799    0.942064\n",
       "\n",
       "[314 rows x 2 columns]"
      ]
     },
     "execution_count": 19,
     "metadata": {},
     "output_type": "execute_result"
    }
   ],
   "source": [
    "data"
   ]
  },
  {
   "cell_type": "code",
   "execution_count": 10,
   "metadata": {},
   "outputs": [
    {
     "data": {
      "image/png": "[encoded data removed]",
      "text/plain": [
       "<Figure size 432x288 with 1 Axes>"
      ]
     },
     "metadata": {
      "needs_background": "light"
     },
     "output_type": "display_data"
    }
   ],
   "source": [
    "import matplotlib.pyplot as plt\n",
    "%matplotlib inline\n",
    "\n",
    "plt.figure()\n",
    "y_c = data['ave_voltage'] \n",
    "plt.scatter(y_c,y_c)\n",
    "plt.show()"
   ]
  },
  {
   "cell_type": "code",
   "execution_count": 11,
   "metadata": {},
   "outputs": [
    {
     "name": "stdout",
     "output_type": "stream",
     "text": [
      "Wall time: 13 ms\n"
     ]
    }
   ],
   "source": [
    "data = data[data['ave_voltage']< up]\n",
    "data = data[data['ave_voltage']> dw]"
   ]
  },
  {
   "cell_type": "code",
   "execution_count": null,
   "metadata": {},
   "outputs": [],
   "source": [
    "%%time\n",
    "data.to_csv('id_prop.csv',index=False, header = False)"
   ]
  }
 ],
 "metadata": {
  "kernelspec": {
   "display_name": "Python 3",
   "language": "python",
   "name": "python3"
  },
  "language_info": {
   "codemirror_mode": {
    "name": "ipython",
    "version": 3
   },
   "file_extension": ".py",
   "mimetype": "text/x-python",
   "name": "python",
   "nbconvert_exporter": "python",
   "pygments_lexer": "ipython3",
   "version": "3.7.2"
  }
 },
 "nbformat": 4,
 "nbformat_minor": 2
}
